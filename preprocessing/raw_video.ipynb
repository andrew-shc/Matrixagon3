{
 "cells": [
  {
   "cell_type": "code",
   "execution_count": 19,
   "metadata": {},
   "outputs": [],
   "source": [
    "import cv2\n",
    "import numpy as np\n",
    "\n",
    "ROOT_DIR = \"../data/calculator/\"\n",
    "\n",
    "video = cv2.VideoCapture(ROOT_DIR+\"RAW_CALCULATOR.mov\")"
   ]
  },
  {
   "cell_type": "code",
   "execution_count": 20,
   "metadata": {},
   "outputs": [
    {
     "name": "stdout",
     "output_type": "stream",
     "text": [
      "No more frames\n"
     ]
    }
   ],
   "source": [
    "FRAME_INTERVAL = 1\n",
    "\n",
    "frame_ind = 0\n",
    "while video.isOpened():\n",
    "    # Capture frame-by-frame\n",
    "    success, frame = video.read()\n",
    "    if not success:\n",
    "        print(\"No more frames\")\n",
    "        break\n",
    "\n",
    "    # BEGIN\n",
    "    \n",
    "    # h, w, l = frame.shape\n",
    "\n",
    "    # if frame_ind%FRAME_INTERVAL == 0:\n",
    "    cv2.imwrite(ROOT_DIR+f\"raw_images/{frame_ind:03d}.png\", frame)\n",
    "    # cv2.imshow('frame', cv2.resize(frame, (round(w/4), round(h/4))))\n",
    "    # END\n",
    "\n",
    "    frame_ind += 1\n",
    "\n",
    "    if cv2.waitKey(1) == ord('q'):\n",
    "        break\n",
    "\n",
    "\n",
    "cv2.destroyAllWindows()"
   ]
  },
  {
   "cell_type": "code",
   "execution_count": 3,
   "metadata": {},
   "outputs": [],
   "source": [
    "video.release()"
   ]
  },
  {
   "cell_type": "code",
   "execution_count": 18,
   "metadata": {},
   "outputs": [],
   "source": [
    "cv2.destroyAllWindows()"
   ]
  }
 ],
 "metadata": {
  "kernelspec": {
   "display_name": "Python 3",
   "language": "python",
   "name": "python3"
  },
  "language_info": {
   "codemirror_mode": {
    "name": "ipython",
    "version": 3
   },
   "file_extension": ".py",
   "mimetype": "text/x-python",
   "name": "python",
   "nbconvert_exporter": "python",
   "pygments_lexer": "ipython3",
   "version": "3.10.14"
  }
 },
 "nbformat": 4,
 "nbformat_minor": 2
}
