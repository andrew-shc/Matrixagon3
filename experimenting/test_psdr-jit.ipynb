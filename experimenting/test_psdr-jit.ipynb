{
 "cells": [
  {
   "cell_type": "code",
   "execution_count": 1,
   "metadata": {},
   "outputs": [
    {
     "data": {
      "text/plain": [
       "True"
      ]
     },
     "execution_count": 1,
     "metadata": {},
     "output_type": "execute_result"
    }
   ],
   "source": [
    "import os\n",
    "os.environ[\"OPENCV_IO_ENABLE_OPENEXR\"]=\"1\"\n",
    "\n",
    "import cv2\n",
    "\n",
    "import psdr_jit as psdr\n",
    "import drjit\n",
    "from drjit.cuda.ad import Float as FloatD, Matrix4f as Matrix4fD\n",
    "from drjit.cuda import Float as FloatC, Matrix4f as Matrix4fC\n",
    "\n",
    "sc = psdr.Scene()\n",
    "sc.opts.spp = 32 # Interior Term\n",
    "sc.opts.sppe = 32 # Primary Edge\n",
    "sc.opts.sppse = 32 # Secondary Edge\n",
    "sc.opts.height = 512\n",
    "sc.opts.width = 512\n",
    "\n",
    "integrator = psdr.PathTracer(3)\t\n",
    "\n",
    "\n",
    "sensor = psdr.PerspectiveCamera(60, 0.000001, 10000000.)\n",
    "to_world = Matrix4fD([[1.,0.,0.,208.],\n",
    "                     [0.,1.,0.,273.],\n",
    "                     [0.,0.,1.,-800.],\n",
    "                     [0.,0.,0.,1.],])\n",
    "sensor.to_world = to_world\n",
    "sc.add_Sensor(sensor)\n",
    "\n",
    "sc.add_BSDF(psdr.DiffuseBSDF([0.0, 0.0, 0.0]), \"light\")\n",
    "sc.add_BSDF(psdr.DiffuseBSDF(), \"cat\")\n",
    "sc.add_BSDF(psdr.DiffuseBSDF([0.95, 0.95, 0.95]), \"white\")\n",
    "sc.add_BSDF(psdr.DiffuseBSDF([0.20, 0.90, 0.20]), \"green\")\n",
    "sc.add_BSDF(psdr.DiffuseBSDF([0.90, 0.20, 0.20]), \"red\")\n",
    "\n",
    "sc.add_Mesh(\"./data/cbox/cbox_luminaire.obj\", Matrix4fC([[1.,0.,0.,0.],[0.,1.,0.,-0.5],[0.,0.,1.,0.],[0.,0.,0.,1.]]), \"light\", psdr.AreaLight([20.0, 20.0, 8.0]))\n",
    "sc.add_Mesh(\"./data/cbox/cbox_smallbox.obj\", Matrix4fC([[1.,0.,0.,0.],[0.,1.,0.,0.],[0.,0.,1.,0.],[0.,0.,0.,1.]]), \"cat\", None)\n",
    "sc.add_Mesh(\"./data/cbox/cbox_largebox.obj\", Matrix4fC([[1.,0.,0.,0.],[0.,1.,0.,0.],[0.,0.,1.,0.],[0.,0.,0.,1.]]), \"cat\", None)\n",
    "sc.add_Mesh(\"./data/cbox/cbox_floor.obj\", Matrix4fC([[1.,0.,0.,0.],[0.,1.,0.,0.],[0.,0.,1.,0.],[0.,0.,0.,1.]]), \"white\", None)\n",
    "sc.add_Mesh(\"./data/cbox/cbox_ceiling.obj\", Matrix4fC([[1.,0.,0.,0.],[0.,1.,0.,0.],[0.,0.,1.,0.],[0.,0.,0.,1.]]), \"white\", None)\n",
    "sc.add_Mesh(\"./data/cbox/cbox_back.obj\", Matrix4fC([[1.,0.,0.,0.],[0.,1.,0.,0.],[0.,0.,1.,0.],[0.,0.,0.,1.]]), \"white\", None)\n",
    "sc.add_Mesh(\"./data/cbox/cbox_greenwall.obj\", Matrix4fC([[1.,0.,0.,0.],[0.,1.,0.,0.],[0.,0.,1.,0.],[0.,0.,0.,1.]]), \"green\", None)\n",
    "sc.add_Mesh(\"./data/cbox/cbox_redwall.obj\", Matrix4fC([[1.,0.,0.,0.],[0.,1.,0.,0.],[0.,0.,1.,0.],[0.,0.,0.,1.]]), \"red\", None)\n",
    "\n",
    "P = FloatD(0.)\n",
    "drjit.enable_grad(P)\n",
    "\n",
    "sc.param_map[\"Mesh[0]\"].set_transform(Matrix4fD([[1.,0.,0.,P*100.],[0.,1.,0.,0.],[0.,0.,1.,0.],[0.,0.,0.,1.],]))\n",
    "\n",
    "\n",
    "sc.configure()\n",
    "sc.configure([0])\n",
    "\n",
    "img = integrator.renderD(sc, 0)\n",
    "org_img = img.numpy().reshape((sc.opts.width, sc.opts.height, 3))\n",
    "output = cv2.cvtColor(org_img, cv2.COLOR_RGB2BGR)\n",
    "cv2.imwrite(\"psdr_jit_forward.exr\", output)\n",
    "\n",
    "\n",
    "drjit.set_grad(P, 1.0)\n",
    "drjit.forward_to(img)\n",
    "diff_img = drjit.grad(img)\n",
    "diff_img = diff_img.numpy().reshape((sc.opts.width, sc.opts.height, 3))\n",
    "output = cv2.cvtColor(diff_img, cv2.COLOR_RGB2BGR)\n",
    "cv2.imwrite(\"psdr_jit_diff_debug.exr\", output)"
   ]
  },
  {
   "cell_type": "code",
   "execution_count": null,
   "metadata": {},
   "outputs": [],
   "source": []
  }
 ],
 "metadata": {
  "kernelspec": {
   "display_name": "Python 3",
   "language": "python",
   "name": "python3"
  },
  "language_info": {
   "codemirror_mode": {
    "name": "ipython",
    "version": 3
   },
   "file_extension": ".py",
   "mimetype": "text/x-python",
   "name": "python",
   "nbconvert_exporter": "python",
   "pygments_lexer": "ipython3",
   "version": "3.10.14"
  }
 },
 "nbformat": 4,
 "nbformat_minor": 2
}
