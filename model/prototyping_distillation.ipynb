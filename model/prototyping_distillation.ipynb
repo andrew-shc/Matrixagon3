{
 "cells": [
  {
   "cell_type": "code",
   "execution_count": 119,
   "metadata": {},
   "outputs": [],
   "source": [
    "import torch\n",
    "import numpy as np\n",
    "import meshio\n",
    "\n",
    "from torchmcubes import marching_cubes, grid_interp\n",
    "\n",
    "import distillation"
   ]
  },
  {
   "cell_type": "code",
   "execution_count": 120,
   "metadata": {},
   "outputs": [
    {
     "name": "stderr",
     "output_type": "stream",
     "text": [
      "C:\\Users\\andrewhc\\AppData\\Local\\Temp\\ipykernel_13436\\633730493.py:1: FutureWarning: You are using `torch.load` with `weights_only=False` (the current default value), which uses the default pickle module implicitly. It is possible to construct malicious pickle data which will execute arbitrary code during unpickling (See https://github.com/pytorch/pytorch/blob/main/SECURITY.md#untrusted-models for more details). In a future release, the default value for `weights_only` will be flipped to `True`. This limits the functions that could be executed during unpickling. Arbitrary objects will no longer be allowed to be loaded via this mode unless they are explicitly allowlisted by the user via `torch.serialization.add_safe_globals`. We recommend you start setting `weights_only=True` for any use case where you don't have full control of the loaded file. Please open an issue on GitHub for any issues related to this experimental feature.\n",
      "  nsr = torch.load(\"nsr000.pt\")\n"
     ]
    }
   ],
   "source": [
    "nsr = torch.load(\"nsr000.pt\")"
   ]
  },
  {
   "cell_type": "code",
   "execution_count": 121,
   "metadata": {},
   "outputs": [],
   "source": [
    "fg_sdf = nsr[\"s.fg_sdf\"][0][0]"
   ]
  },
  {
   "cell_type": "code",
   "execution_count": 122,
   "metadata": {},
   "outputs": [],
   "source": [
    "verts, faces = marching_cubes(fg_sdf, thresh=0.0)\n",
    "\n",
    "# removes duplicate vertices\n",
    "verts, reverse_ind = torch.unique(verts, dim=0, return_inverse=True)\n",
    "faces = reverse_ind[faces]"
   ]
  },
  {
   "cell_type": "code",
   "execution_count": 123,
   "metadata": {},
   "outputs": [],
   "source": [
    "mesh = meshio.Mesh(\n",
    "    verts.detach().cpu().numpy().tolist(),\n",
    "    [(\"triangle\", faces.detach().cpu().numpy().tolist())]  # + albedo (color) & roughness\n",
    ")\n",
    "mesh.write(\"calculator.obj\")"
   ]
  },
  {
   "cell_type": "code",
   "execution_count": 124,
   "metadata": {},
   "outputs": [],
   "source": [
    "normal = torch.zeros(verts.shape)\n",
    "albedo = torch.zeros(verts.shape[0])\n",
    "roughness = torch.zeros(verts.shape[0])"
   ]
  },
  {
   "cell_type": "code",
   "execution_count": 128,
   "metadata": {},
   "outputs": [],
   "source": [
    "# Fx(A,B,C) -> Fx(A,B,C)x(X,Y,Z)\n",
    "vf = verts[faces]\n",
    "face_norm = torch.linalg.cross(vf[:,1]-vf[:,0], vf[:,2]-vf[:,0])"
   ]
  },
  {
   "cell_type": "code",
   "execution_count": 129,
   "metadata": {},
   "outputs": [
    {
     "data": {
      "text/plain": [
       "tensor([[-0.0019, -0.0049, -0.0038],\n",
       "        [-0.0984, -0.3550, -0.3149],\n",
       "        [-0.0115, -0.0491, -0.0377],\n",
       "        ...,\n",
       "        [ 0.0103, -0.0044,  0.0767],\n",
       "        [-0.0040,  0.0048,  0.0321],\n",
       "        [ 0.0040,  0.0044,  0.0295]], device='cuda:0')"
      ]
     },
     "execution_count": 129,
     "metadata": {},
     "output_type": "execute_result"
    }
   ],
   "source": [
    "face_norm"
   ]
  },
  {
   "cell_type": "code",
   "execution_count": 64,
   "metadata": {},
   "outputs": [
    {
     "data": {
      "text/plain": [
       "tensor([[0.0000e+00, 0.0000e+00, 0.0000e+00],\n",
       "        [3.0000e+00, 4.0000e+00, 5.0000e+00],\n",
       "        [6.0000e+00, 7.0000e+00, 8.0000e+00],\n",
       "        ...,\n",
       "        [2.1699e+04, 2.1700e+04, 2.1701e+04],\n",
       "        [2.1702e+04, 2.1703e+04, 2.1704e+04],\n",
       "        [2.1705e+04, 2.1706e+04, 2.1707e+04]], device='cuda:0')"
      ]
     },
     "execution_count": 64,
     "metadata": {},
     "output_type": "execute_result"
    }
   ],
   "source": [
    "faces.clone().float()"
   ]
  },
  {
   "cell_type": "code",
   "execution_count": 49,
   "metadata": {},
   "outputs": [
    {
     "data": {
      "text/plain": [
       "tensor([0, 0, 0], device='cuda:0', dtype=torch.int32)"
      ]
     },
     "execution_count": 49,
     "metadata": {},
     "output_type": "execute_result"
    }
   ],
   "source": [
    "faces[0] = face_norm[0,np.newaxis]\n",
    "faces[0]"
   ]
  },
  {
   "cell_type": "code",
   "execution_count": 53,
   "metadata": {},
   "outputs": [
    {
     "data": {
      "text/plain": [
       "tensor([[-0.0984, -0.3550, -0.3149]], device='cuda:0')"
      ]
     },
     "execution_count": 53,
     "metadata": {},
     "output_type": "execute_result"
    }
   ],
   "source": [
    "face_norm[1,np.newaxis]"
   ]
  },
  {
   "cell_type": "code",
   "execution_count": 72,
   "metadata": {},
   "outputs": [
    {
     "data": {
      "text/plain": [
       "tensor([-0.0019, -0.0049, -0.0038], device='cuda:0')"
      ]
     },
     "execution_count": 72,
     "metadata": {},
     "output_type": "execute_result"
    }
   ],
   "source": [
    "ftest = faces.clone().float()\n",
    "ftest[0] = face_norm[0]\n",
    "ftest[0]"
   ]
  },
  {
   "cell_type": "code",
   "execution_count": 71,
   "metadata": {},
   "outputs": [
    {
     "data": {
      "text/plain": [
       "tensor([-0.0115, -0.0491, -0.0377], device='cuda:0')"
      ]
     },
     "execution_count": 71,
     "metadata": {},
     "output_type": "execute_result"
    }
   ],
   "source": [
    "face_norm[2]"
   ]
  },
  {
   "cell_type": "code",
   "execution_count": 78,
   "metadata": {},
   "outputs": [
    {
     "data": {
      "text/plain": [
       "tensor([[-1.8538e-03, -4.8872e-03, -3.7509e-03],\n",
       "        [ 3.0000e+00,  4.0000e+00,  5.0000e+00],\n",
       "        [ 6.0000e+00,  7.0000e+00,  8.0000e+00],\n",
       "        ...,\n",
       "        [ 2.1699e+04,  2.1700e+04,  2.1701e+04],\n",
       "        [ 2.1702e+04,  2.1703e+04,  2.1704e+04],\n",
       "        [ 2.1705e+04,  2.1706e+04,  2.1707e+04]], device='cuda:0')"
      ]
     },
     "execution_count": 78,
     "metadata": {},
     "output_type": "execute_result"
    }
   ],
   "source": [
    "ftest"
   ]
  },
  {
   "cell_type": "code",
   "execution_count": 189,
   "metadata": {},
   "outputs": [
    {
     "data": {
      "text/plain": [
       "tensor([[-1.0000,  0.0659, -0.1497],\n",
       "        [-1.0000,  0.2283,  0.3286],\n",
       "        [-0.8532,  0.5779, -0.0832],\n",
       "        ...,\n",
       "        [ 0.4127,  0.5136, -0.1440],\n",
       "        [ 0.3991,  0.2321,  0.4544],\n",
       "        [ 1.0000, -0.3275,  0.1101]], device='cuda:0')"
      ]
     },
     "execution_count": 189,
     "metadata": {},
     "output_type": "execute_result"
    }
   ],
   "source": [
    "# for norm, (a,b,c) in zip(face_norm, faces):\n",
    "#     verts[[a,b,c]] += norm\n",
    "# verts[faces] = face_norm\n",
    "# vert_norm = np.zeros(verts.shape)\n",
    "# np.add.at(vert_norm, faces, face_norm)\n",
    "\n",
    "# supports simulataneous summation for multiple indices\n",
    "vert_norm = torch.zeros(verts.shape, device=\"cuda\")\n",
    "vert_norm.index_put_(indices=(faces.flatten(),), values=torch.repeat_interleave(face_norm, 3, dim=0), accumulate=True)\n",
    "vert_norm\n",
    "\n",
    "# assuming no duplicate indices\n",
    "vert_norm = torch.zeros(verts.shape, device=\"cuda\")\n",
    "vert_norm[faces.flatten()] = torch.repeat_interleave(face_norm, 3, dim=0)\n",
    "vert_norm"
   ]
  },
  {
   "cell_type": "code",
   "execution_count": 188,
   "metadata": {},
   "outputs": [
    {
     "data": {
      "text/plain": [
       "(tensor([[ 887,  845,  888],\n",
       "         [ 887, 1079, 1077],\n",
       "         [ 888, 1079,  887],\n",
       "         ...,\n",
       "         [2481, 2463, 2460],\n",
       "         [2359, 2463, 2464],\n",
       "         [2481, 2464, 2463]], device='cuda:0'),\n",
       " tensor([ 887,  845,  888,  ..., 2481, 2464, 2463], device='cuda:0'),\n",
       " tensor([[-0.0019, -0.0049, -0.0038],\n",
       "         [-0.0984, -0.3550, -0.3149],\n",
       "         [-0.0115, -0.0491, -0.0377],\n",
       "         ...,\n",
       "         [ 0.0103, -0.0044,  0.0767],\n",
       "         [-0.0040,  0.0048,  0.0321],\n",
       "         [ 0.0040,  0.0044,  0.0295]], device='cuda:0'),\n",
       " tensor([[-0.0019, -0.0049, -0.0038],\n",
       "         [-0.0019, -0.0049, -0.0038],\n",
       "         [-0.0019, -0.0049, -0.0038],\n",
       "         ...,\n",
       "         [ 0.0040,  0.0044,  0.0295],\n",
       "         [ 0.0040,  0.0044,  0.0295],\n",
       "         [ 0.0040,  0.0044,  0.0295]], device='cuda:0'))"
      ]
     },
     "execution_count": 188,
     "metadata": {},
     "output_type": "execute_result"
    }
   ],
   "source": [
    "faces, faces.flatten(), face_norm, torch.repeat_interleave(face_norm, 3, dim=0)"
   ]
  },
  {
   "cell_type": "code",
   "execution_count": 180,
   "metadata": {},
   "outputs": [
    {
     "data": {
      "text/plain": [
       "(tensor([887, 845, 888], device='cuda:0'),\n",
       " tensor([ 887, 1079, 1077], device='cuda:0'),\n",
       " tensor([ 888, 1079,  887], device='cuda:0'),\n",
       " tensor([-0.0019, -0.0049, -0.0038], device='cuda:0'),\n",
       " tensor([-0.0984, -0.3550, -0.3149], device='cuda:0'),\n",
       " tensor([-0.0115, -0.0491, -0.0377], device='cuda:0'))"
      ]
     },
     "execution_count": 180,
     "metadata": {},
     "output_type": "execute_result"
    }
   ],
   "source": [
    "faces[0], faces[1], faces[2], face_norm[0], face_norm[1], face_norm[2]"
   ]
  },
  {
   "cell_type": "code",
   "execution_count": 176,
   "metadata": {},
   "outputs": [
    {
     "data": {
      "text/plain": [
       "tensor([-0.2772, -1.0000, -0.6548], device='cuda:0')"
      ]
     },
     "execution_count": 176,
     "metadata": {},
     "output_type": "execute_result"
    }
   ],
   "source": [
    "vert_norm[887]"
   ]
  },
  {
   "cell_type": "code",
   "execution_count": 179,
   "metadata": {},
   "outputs": [
    {
     "data": {
      "text/plain": [
       "(tensor([[-1.0000,  0.0659, -0.1497],\n",
       "         [-1.0000,  0.2283,  0.3286],\n",
       "         [-0.8532,  0.5779, -0.0832],\n",
       "         ...,\n",
       "         [ 0.4127,  0.5136, -0.1440],\n",
       "         [ 0.3991,  0.2321,  0.4544],\n",
       "         [ 1.0000, -0.3275,  0.1101]], device='cuda:0'),\n",
       " tensor([[ 887,  845,  888],\n",
       "         [ 887, 1079, 1077],\n",
       "         [ 888, 1079,  887],\n",
       "         [1077, 1250, 1247],\n",
       "         [1079, 1250, 1077],\n",
       "         [1247, 1419, 1417],\n",
       "         [1250, 1419, 1247],\n",
       "         [1419, 1489, 1417],\n",
       "         [ 748,  701,  750],\n",
       "         [ 748,  888,  845],\n",
       "         [ 748,  750,  888],\n",
       "         [ 750,  891,  888],\n",
       "         [1079,  888, 1084],\n",
       "         [ 888,  891, 1084],\n",
       "         [1250, 1079, 1254],\n",
       "         [1079, 1083, 1254],\n",
       "         [1419, 1250, 1422],\n",
       "         [1250, 1254, 1422],\n",
       "         [1422, 1489, 1419],\n",
       "         [1517, 1489, 1422],\n",
       "         [ 750,  687,  753],\n",
       "         [ 701,  687,  750],\n",
       "         [ 891,  750,  894],\n",
       "         [ 750,  753,  894],\n",
       "         [1084,  891, 1087],\n",
       "         [ 891,  894, 1087],\n",
       "         [1254, 1083, 1256],\n",
       "         [1083, 1087, 1256],\n",
       "         [1422, 1254, 1425],\n",
       "         [1254, 1256, 1425],\n",
       "         [1425, 1517, 1422],\n",
       "         [1492, 1517, 1425],\n",
       "         [ 753,  689,  757],\n",
       "         [ 687,  689,  753],\n",
       "         [ 894,  753,  897],\n",
       "         [ 753,  757,  897],\n",
       "         [1087,  894, 1090],\n",
       "         [ 894,  897, 1090],\n",
       "         [1256, 1087, 1260],\n",
       "         [1087, 1090, 1260]], device='cuda:0'),\n",
       " tensor([[-0.0019, -0.0049, -0.0038],\n",
       "         [-0.0984, -0.3550, -0.3149],\n",
       "         [-0.0115, -0.0491, -0.0377],\n",
       "         ...,\n",
       "         [ 0.0103, -0.0044,  0.0767],\n",
       "         [-0.0040,  0.0048,  0.0321],\n",
       "         [ 0.0040,  0.0044,  0.0295]], device='cuda:0'))"
      ]
     },
     "execution_count": 179,
     "metadata": {},
     "output_type": "execute_result"
    }
   ],
   "source": [
    "vert_norm, faces[0:40], face_norm"
   ]
  },
  {
   "cell_type": "code",
   "execution_count": 165,
   "metadata": {},
   "outputs": [
    {
     "data": {
      "text/plain": [
       "(torch.Size([3643, 1, 3]), torch.Size([7236, 3]), torch.Size([7236, 3]))"
      ]
     },
     "execution_count": 165,
     "metadata": {},
     "output_type": "execute_result"
    }
   ],
   "source": [
    "vert_norm.shape, faces.shape, face_norm.shape"
   ]
  },
  {
   "cell_type": "code",
   "execution_count": 86,
   "metadata": {},
   "outputs": [
    {
     "data": {
      "text/plain": [
       "tensor([[23.0000, 31.9623,  9.0000],\n",
       "        [22.9006, 32.0000,  9.0000],\n",
       "        [23.0000, 32.0000,  8.9509]], device='cuda:0')"
      ]
     },
     "execution_count": 86,
     "metadata": {},
     "output_type": "execute_result"
    }
   ],
   "source": [
    "verts[[0,1,2]] #+ torch.tensor([1,2,1], device=\"cuda\")"
   ]
  },
  {
   "cell_type": "code",
   "execution_count": 96,
   "metadata": {},
   "outputs": [
    {
     "name": "stdout",
     "output_type": "stream",
     "text": [
      "tensor([[225.0000,  39.9623,  13.0000],\n",
      "        [224.9006,  40.0000,  13.0000],\n",
      "        [225.0000,  40.0000,  12.9509]], device='cuda:0')\n",
      "tensor([[325.0000,  41.9623,  14.0000],\n",
      "        [324.9006,  42.0000,  14.0000],\n",
      "        [325.0000,  42.0000,  13.9509]], device='cuda:0')\n"
     ]
    }
   ],
   "source": [
    "print(verts[[0,1,2]])\n",
    "verts[[0,1,2,0,1,2]] += torch.tensor([100,2,1], device=\"cuda\")\n",
    "print(verts[[0,1,2]])"
   ]
  },
  {
   "cell_type": "code",
   "execution_count": 100,
   "metadata": {},
   "outputs": [
    {
     "data": {
      "text/plain": [
       "(tensor([[325.0000,  41.9623,  14.0000],\n",
       "         [324.9006,  42.0000,  14.0000],\n",
       "         [325.0000,  42.0000,  13.9509],\n",
       "         ...,\n",
       "         [ 32.1816,  33.0000,  55.0000],\n",
       "         [ 32.0000,  33.1627,  55.0000],\n",
       "         [ 32.0000,  33.0000,  55.0243]], device='cuda:0'),\n",
       " tensor([[    0,     0,     0],\n",
       "         [    3,     4,     5],\n",
       "         [    6,     7,     8],\n",
       "         ...,\n",
       "         [21699, 21700, 21701],\n",
       "         [21702, 21703, 21704],\n",
       "         [21705, 21706, 21707]], device='cuda:0', dtype=torch.int32))"
      ]
     },
     "execution_count": 100,
     "metadata": {},
     "output_type": "execute_result"
    }
   ],
   "source": [
    "verts, faces"
   ]
  },
  {
   "cell_type": "code",
   "execution_count": 106,
   "metadata": {},
   "outputs": [
    {
     "data": {
      "text/plain": [
       "(21708, torch.Size([21706]))"
      ]
     },
     "execution_count": 106,
     "metadata": {},
     "output_type": "execute_result"
    }
   ],
   "source": [
    "faces.shape[0]*faces.shape[1], torch.unique(faces).shape  # literally unique (there will be no duplicated elements)"
   ]
  },
  {
   "cell_type": "code",
   "execution_count": 127,
   "metadata": {},
   "outputs": [
    {
     "data": {
      "text/plain": [
       "(torch.Size([3643, 3]),)"
      ]
     },
     "execution_count": 127,
     "metadata": {},
     "output_type": "execute_result"
    }
   ],
   "source": [
    "verts.shape, #torch.unique(verts, dim=0).shape"
   ]
  },
  {
   "cell_type": "code",
   "execution_count": 113,
   "metadata": {},
   "outputs": [
    {
     "data": {
      "text/plain": [
       "tensor([[325.0000,  41.9623,  14.0000],\n",
       "        [324.9006,  42.0000,  14.0000],\n",
       "        [325.0000,  42.0000,  13.9509],\n",
       "        ...,\n",
       "        [ 32.1816,  33.0000,  55.0000],\n",
       "        [ 32.0000,  33.1627,  55.0000],\n",
       "        [ 32.0000,  33.0000,  55.0243]], device='cuda:0')"
      ]
     },
     "execution_count": 113,
     "metadata": {},
     "output_type": "execute_result"
    }
   ],
   "source": [
    "verts"
   ]
  },
  {
   "cell_type": "code",
   "execution_count": 115,
   "metadata": {},
   "outputs": [
    {
     "data": {
      "text/plain": [
       "tensor([3644, 3643, 3645,  ..., 2481, 2464, 2463], device='cuda:0')"
      ]
     },
     "execution_count": 115,
     "metadata": {},
     "output_type": "execute_result"
    }
   ],
   "source": [
    "compact_vert, reverse_ind = torch.unique(verts, dim=0, return_inverse=True)\n",
    "reverse_ind"
   ]
  },
  {
   "cell_type": "code",
   "execution_count": 117,
   "metadata": {},
   "outputs": [
    {
     "data": {
      "text/plain": [
       "tensor([[    0,     0,     0],\n",
       "        [    3,     4,     5],\n",
       "        [    6,     7,     8],\n",
       "        ...,\n",
       "        [21699, 21700, 21701],\n",
       "        [21702, 21703, 21704],\n",
       "        [21705, 21706, 21707]], device='cuda:0', dtype=torch.int32)"
      ]
     },
     "execution_count": 117,
     "metadata": {},
     "output_type": "execute_result"
    }
   ],
   "source": [
    "faces"
   ]
  },
  {
   "cell_type": "code",
   "execution_count": 118,
   "metadata": {},
   "outputs": [
    {
     "data": {
      "text/plain": [
       "tensor([[3644, 3644, 3644],\n",
       "        [ 887, 1079, 1077],\n",
       "        [ 888, 1079,  887],\n",
       "        ...,\n",
       "        [2481, 2463, 2460],\n",
       "        [2359, 2463, 2464],\n",
       "        [2481, 2464, 2463]], device='cuda:0')"
      ]
     },
     "execution_count": 118,
     "metadata": {},
     "output_type": "execute_result"
    }
   ],
   "source": [
    "new_faces = reverse_ind[faces]"
   ]
  }
 ],
 "metadata": {
  "kernelspec": {
   "display_name": "Python 3",
   "language": "python",
   "name": "python3"
  },
  "language_info": {
   "codemirror_mode": {
    "name": "ipython",
    "version": 3
   },
   "file_extension": ".py",
   "mimetype": "text/x-python",
   "name": "python",
   "nbconvert_exporter": "python",
   "pygments_lexer": "ipython3",
   "version": "3.10.14"
  }
 },
 "nbformat": 4,
 "nbformat_minor": 2
}
